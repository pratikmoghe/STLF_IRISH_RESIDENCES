{
  "nbformat": 4,
  "nbformat_minor": 0,
  "metadata": {
    "colab": {
      "name": "final_preprocessing.ipynb",
      "provenance": [],
      "collapsed_sections": [],
      "machine_shape": "hm"
    },
    "kernelspec": {
      "name": "python3",
      "display_name": "Python 3"
    },
    "accelerator": "GPU"
  },
  "cells": [
    {
      "cell_type": "code",
      "metadata": {
        "id": "25R-me0r7Yrs",
        "colab_type": "code",
        "colab": {}
      },
      "source": [
        "#install all dependencies\n",
        "!pip install pandas\n",
        "!pip install -U scikit-learn\n",
        "!pip install numpy\n",
        "!pip install Keras\n",
        "!pip install matplotlib"
      ],
      "execution_count": 0,
      "outputs": []
    },
    {
      "cell_type": "code",
      "metadata": {
        "id": "fZCfpqooCBK3",
        "colab_type": "code",
        "colab": {}
      },
      "source": [
        "import pandas as pd\n",
        "#Load data from Drive\n",
        "path = \"/Data\"\n",
        "#read first file\n",
        "df = pd.read_csv(path+\"/File1.txt\", sep=\" \", header=None, names=[\"meter_id\", \"date_time\", \"kwhr\"], low_memory=False)"
      ],
      "execution_count": 0,
      "outputs": []
    },
    {
      "cell_type": "code",
      "metadata": {
        "id": "cwlTs4NNC_1s",
        "colab_type": "code",
        "outputId": "70537e3f-73bb-4cee-9c44-4ed343527842",
        "colab": {
          "base_uri": "https://localhost:8080/",
          "height": 34
        }
      },
      "source": [
        "#check file shape \n",
        "df.shape"
      ],
      "execution_count": 0,
      "outputs": [
        {
          "output_type": "execute_result",
          "data": {
            "text/plain": [
              "(24465838, 3)"
            ]
          },
          "metadata": {
            "tags": []
          },
          "execution_count": 4
        }
      ]
    },
    {
      "cell_type": "code",
      "metadata": {
        "id": "veksFAA0CwCg",
        "colab_type": "code",
        "outputId": "bcd99a30-80fa-42e6-cd5c-1a8ac710c3e6",
        "colab": {
          "base_uri": "https://localhost:8080/",
          "height": 34
        }
      },
      "source": [
        "data_2 = pd.read_csv(path+\"/File2.txt\", sep=\" \", header=None, names=[\"meter_id\", \"date_time\", \"kwhr\"], low_memory=False)\n",
        "df = df.append(data_2)\n",
        "del data_2\n",
        "df.shape"
      ],
      "execution_count": 0,
      "outputs": [
        {
          "output_type": "execute_result",
          "data": {
            "text/plain": [
              "(48973138, 3)"
            ]
          },
          "metadata": {
            "tags": []
          },
          "execution_count": 5
        }
      ]
    },
    {
      "cell_type": "code",
      "metadata": {
        "id": "AF4_h0WMDD8l",
        "colab_type": "code",
        "outputId": "160c602b-8470-46a3-a492-9eb098f07ac3",
        "colab": {
          "base_uri": "https://localhost:8080/",
          "height": 34
        }
      },
      "source": [
        "data_3 = pd.read_csv(path+\"/File3.txt\", sep=\" \", header=None, names=[\"meter_id\", \"date_time\", \"kwhr\"], low_memory=False)\n",
        "df = df.append(data_3)\n",
        "del data_3\n",
        "df.shape"
      ],
      "execution_count": 0,
      "outputs": [
        {
          "output_type": "execute_result",
          "data": {
            "text/plain": [
              "(73367486, 3)"
            ]
          },
          "metadata": {
            "tags": []
          },
          "execution_count": 6
        }
      ]
    },
    {
      "cell_type": "code",
      "metadata": {
        "id": "VyjdP0yIDdxM",
        "colab_type": "code",
        "outputId": "f608e0e3-f604-4fed-a7f8-9093f188223d",
        "colab": {
          "base_uri": "https://localhost:8080/",
          "height": 34
        }
      },
      "source": [
        "data_4 = pd.read_csv(path+\"/File4.txt\", sep=\" \", header=None, names=[\"meter_id\", \"date_time\", \"kwhr\"], low_memory=False)\n",
        "df = df.append(data_4)\n",
        "del data_4\n",
        "df.shape"
      ],
      "execution_count": 0,
      "outputs": [
        {
          "output_type": "execute_result",
          "data": {
            "text/plain": [
              "(97985454, 3)"
            ]
          },
          "metadata": {
            "tags": []
          },
          "execution_count": 7
        }
      ]
    },
    {
      "cell_type": "code",
      "metadata": {
        "id": "xI3xrTVhDpAH",
        "colab_type": "code",
        "outputId": "da1ede90-12ce-4de8-dde4-e2d0f13ce2ec",
        "colab": {
          "base_uri": "https://localhost:8080/",
          "height": 34
        }
      },
      "source": [
        "data_5 = pd.read_csv(path+\"/File5.txt\", sep=\" \", header=None, names=[\"meter_id\", \"date_time\", \"kwhr\"], low_memory=False)\n",
        "df = df.append(data_5)\n",
        "del data_5\n",
        "df.shape"
      ],
      "execution_count": 0,
      "outputs": [
        {
          "output_type": "execute_result",
          "data": {
            "text/plain": [
              "(122556984, 3)"
            ]
          },
          "metadata": {
            "tags": []
          },
          "execution_count": 8
        }
      ]
    },
    {
      "cell_type": "code",
      "metadata": {
        "id": "zmd46M3VDpDf",
        "colab_type": "code",
        "outputId": "4664b647-1d2e-4862-9051-dec4671dc5d6",
        "colab": {
          "base_uri": "https://localhost:8080/",
          "height": 34
        }
      },
      "source": [
        "#read last file \n",
        "data_6 = pd.read_csv(path+\"/File6.txt\", sep=\" \", header=None, names=[\"meter_id\", \"date_time\", \"kwhr\"], low_memory=False)\n",
        "df = df.append(data_6)\n",
        "#delete file from memory\n",
        "del data_6\n",
        "df.shape"
      ],
      "execution_count": 0,
      "outputs": [
        {
          "output_type": "execute_result",
          "data": {
            "text/plain": [
              "(157992996, 3)"
            ]
          },
          "metadata": {
            "tags": []
          },
          "execution_count": 9
        }
      ]
    },
    {
      "cell_type": "code",
      "metadata": {
        "id": "1yEWLKxiKwMw",
        "colab_type": "code",
        "colab": {}
      },
      "source": [
        "#sort the data values by meter id and then date time\n",
        "df_sorted = df.sort_values(by=['meter_id', 'date_time'])"
      ],
      "execution_count": 0,
      "outputs": []
    },
    {
      "cell_type": "code",
      "metadata": {
        "id": "Ra0VBNxTSzSP",
        "colab_type": "code",
        "colab": {}
      },
      "source": [
        "#load oom_id file\n",
        "oom_id = pd.read_csv(\"OOM_ID.txt\", sep = \"\\t\")"
      ],
      "execution_count": 0,
      "outputs": []
    },
    {
      "cell_type": "code",
      "metadata": {
        "id": "vvzf5L2CaeRU",
        "colab_type": "code",
        "colab": {}
      },
      "source": [
        "#select all residential meter id i.e. code 1\n",
        "oom_id = oom_id[oom_id.Code == 1]"
      ],
      "execution_count": 0,
      "outputs": []
    },
    {
      "cell_type": "code",
      "metadata": {
        "id": "V_pSzCrmcjWd",
        "colab_type": "code",
        "colab": {}
      },
      "source": [
        "# create list with meter id code 1\n",
        "residential = oom_id['ID'].tolist()"
      ],
      "execution_count": 0,
      "outputs": []
    },
    {
      "cell_type": "code",
      "metadata": {
        "id": "t6tlGfjkdGBI",
        "colab_type": "code",
        "colab": {}
      },
      "source": [
        "#read oom id file again and save as oom-id-not\n",
        "oom_id_not = pd.read_csv(\"OOM_ID.txt\", sep = \"\\t\")"
      ],
      "execution_count": 0,
      "outputs": []
    },
    {
      "cell_type": "code",
      "metadata": {
        "id": "d5KvquSSdh6h",
        "colab_type": "code",
        "colab": {}
      },
      "source": [
        "#add all id's which are not oom-id code 1 i.e. non residential\n",
        "oom_id_not = oom_id_not[oom_id_not.Code != 1]"
      ],
      "execution_count": 0,
      "outputs": []
    },
    {
      "cell_type": "code",
      "metadata": {
        "id": "xrKCwB55fKpC",
        "colab_type": "code",
        "colab": {}
      },
      "source": [
        "#save non residential meter id in a list \n",
        "non_residential = oom_id_not['ID'].tolist()"
      ],
      "execution_count": 0,
      "outputs": []
    },
    {
      "cell_type": "code",
      "metadata": {
        "id": "Bp7BX8TB2IQt",
        "colab_type": "code",
        "outputId": "ffb74976-1edb-4917-c6ff-7cc82271f8fa",
        "colab": {
          "base_uri": "https://localhost:8080/",
          "height": 54
        }
      },
      "source": [
        "print(non_residential[:20])"
      ],
      "execution_count": 0,
      "outputs": [
        {
          "output_type": "stream",
          "text": [
            "[1000, 1001, 1007, 1010, 1011, 1012, 1017, 1019, 1021, 1023, 1026, 1028, 1029, 1031, 1032, 1038, 1040, 1043, 1046, 1048]\n"
          ],
          "name": "stdout"
        }
      ]
    },
    {
      "cell_type": "code",
      "metadata": {
        "id": "-erd-GdSfxlD",
        "colab_type": "code",
        "outputId": "0a12165e-3b87-4d4a-965f-84e1a2400e8f",
        "colab": {
          "base_uri": "https://localhost:8080/",
          "height": 34
        }
      },
      "source": [
        "df_sorted['meter_id'].nunique()"
      ],
      "execution_count": 0,
      "outputs": [
        {
          "output_type": "execute_result",
          "data": {
            "text/plain": [
              "6435"
            ]
          },
          "metadata": {
            "tags": []
          },
          "execution_count": 36
        }
      ]
    },
    {
      "cell_type": "code",
      "metadata": {
        "id": "_vGeKVEWfRig",
        "colab_type": "code",
        "colab": {}
      },
      "source": [
        "for id in non_residential:\n",
        "  df_sorted[df_sorted.meter_id != id]"
      ],
      "execution_count": 0,
      "outputs": []
    },
    {
      "cell_type": "code",
      "metadata": {
        "id": "7EEMWrL81D6T",
        "colab_type": "code",
        "colab": {}
      },
      "source": [
        "#remove redundant data\n",
        "time_uniq = df_sorted.date_time.unique()"
      ],
      "execution_count": 0,
      "outputs": []
    },
    {
      "cell_type": "code",
      "metadata": {
        "id": "BEcfkigNwAnl",
        "colab_type": "code",
        "colab": {}
      },
      "source": [
        "#create empty data frame\n",
        "final = pd.DataFrame(columns=[\"date_time\", \"value\"])\n",
        "\n",
        "#Aggrregating the values at all datetimes \n",
        "# fundtion = sum (not average)\n",
        "for time in time_uniq:\n",
        "\n",
        "  sum = df_sorted.loc[(df_sorted['date_time'] == time), 'kwhr'].sum()\n",
        "  final = final.append({'date_time': time, 'value': sum})\n",
        "\n",
        "len(final)"
      ],
      "execution_count": 0,
      "outputs": []
    },
    {
      "cell_type": "code",
      "metadata": {
        "id": "EtHt3Snu3e01",
        "colab_type": "code",
        "colab": {}
      },
      "source": [
        "# Add Date Time Manually instead of decoding. It's Efficient this way\n",
        "\n",
        "import datetime\n",
        "\n",
        "dt = datetime.datetime(2010, 01, 01) \n",
        "end = datetime.datetime(2010, 12, 31) \n",
        "step = datetime.timedelta(minutes=30) \n",
        "\n",
        "time_result = []\n",
        "\n",
        "while dt < end:\n",
        "    time_result.append(dt.strftime('%Y-%m-%d %H:%M'))\n",
        "    dt += step"
      ],
      "execution_count": 0,
      "outputs": []
    },
    {
      "cell_type": "code",
      "metadata": {
        "id": "gtdBLzHO3exx",
        "colab_type": "code",
        "colab": {}
      },
      "source": [
        "len(time_result)"
      ],
      "execution_count": 0,
      "outputs": []
    },
    {
      "cell_type": "code",
      "metadata": {
        "id": "QswZMHZz-EIX",
        "colab_type": "code",
        "colab": {}
      },
      "source": [
        "# Get Date from datetime\n",
        "\n",
        "dates = []\n",
        "for date_time in time_result:\n",
        "  date.append(date_time.datetime.date())\n"
      ],
      "execution_count": 0,
      "outputs": []
    },
    {
      "cell_type": "code",
      "metadata": {
        "id": "g2nYTz1q-D6C",
        "colab_type": "code",
        "colab": {}
      },
      "source": [
        "# Get Weekday\n",
        "\n",
        "weekday = []\n",
        "\n",
        "for date in dates:\n",
        "  weekday.append(date.datetime.get_weekday())\n",
        "\n",
        "print(\"Lenth of Dates: \" + len(weekday))\n",
        "print(\"Header: \\n\" + weekday[:10])\n"
      ],
      "execution_count": 0,
      "outputs": []
    },
    {
      "cell_type": "code",
      "metadata": {
        "id": "fOVO6V9b3ewi",
        "colab_type": "code",
        "colab": {}
      },
      "source": [
        "# Add new columns to the main file with time stamp\n",
        "\n",
        "final['real_time'] = time_result\n",
        "final['date'] = dates\n",
        "final['weekday'] = weekday\n"
      ],
      "execution_count": 0,
      "outputs": []
    },
    {
      "cell_type": "code",
      "metadata": {
        "id": "G8vefTi9Ivsc",
        "colab_type": "code",
        "colab": {}
      },
      "source": [
        "# Subsetting 365 days worth of data \n",
        "# Analysis of 12 months\n",
        "# there are 17520 reading values in one year (48 * 365)\n",
        "\n",
        "final = final[len(final)-17520:]"
      ],
      "execution_count": 0,
      "outputs": []
    },
    {
      "cell_type": "code",
      "metadata": {
        "id": "8dRZdisK3euh",
        "colab_type": "code",
        "colab": {}
      },
      "source": [
        "#save the final data into csv file\n",
        "final.to_csv('final.csv')"
      ],
      "execution_count": 0,
      "outputs": []
    }
  ]
}