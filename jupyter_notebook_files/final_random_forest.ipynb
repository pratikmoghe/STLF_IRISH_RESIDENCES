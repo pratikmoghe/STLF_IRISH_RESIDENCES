{
  "nbformat": 4,
  "nbformat_minor": 0,
  "metadata": {
    "colab": {
      "name": "final-random-forest.ipynb",
      "provenance": []
    },
    "kernelspec": {
      "name": "python3",
      "display_name": "Python 3"
    }
  },
  "cells": [
    {
      "cell_type": "code",
      "metadata": {
        "id": "oqEdGQ6ZE04Z",
        "colab_type": "code",
        "colab": {}
      },
      "source": [
        "import numpy as np\n",
        "import pandas as pd\n",
        "import matplotlib.pyplot as plt"
      ],
      "execution_count": 0,
      "outputs": []
    },
    {
      "cell_type": "code",
      "metadata": {
        "id": "pD9LDOcvFnQd",
        "colab_type": "code",
        "colab": {}
      },
      "source": [
        "# For RF \n",
        "\n",
        "from sklearn.model_selection import cross_val_score, cross_val_predict, GridSearchCV\n",
        "from sklearn.ensemble import RandomForestRegressor\n",
        "from sklearn.preprocessing import MinMaxScaler"
      ],
      "execution_count": 0,
      "outputs": []
    },
    {
      "cell_type": "code",
      "metadata": {
        "id": "2BeNMum7F2mI",
        "colab_type": "code",
        "colab": {}
      },
      "source": [
        "# Helper Function\n",
        "# convert an array of values into a dataset matrix\n",
        "\n",
        "def create_dataset(dataset, look_back=1):\n",
        "\tdataX, dataY = [], []\n",
        "\tfor i in range(len(dataset)-look_back-1):\n",
        "\t\ta = dataset[i:(i+look_back), 0]\n",
        "\t\tdataX.append(a)\n",
        "\t\tdataY.append(dataset[i + look_back, 0])\n",
        "\treturn np.array(dataX), np.array(dataY)"
      ],
      "execution_count": 0,
      "outputs": []
    },
    {
      "cell_type": "code",
      "metadata": {
        "id": "Nx-DhiZtF9-C",
        "colab_type": "code",
        "colab": {}
      },
      "source": [
        "# fix random seed for reproducibility\n",
        "np.random.seed(42)"
      ],
      "execution_count": 0,
      "outputs": []
    },
    {
      "cell_type": "code",
      "metadata": {
        "id": "ABD5L7_XGalt",
        "colab_type": "code",
        "colab": {}
      },
      "source": [
        "# load the dataset\n",
        "dataframe = pd.read_csv('final.csv', usecols=[1], engine='python')\n",
        "dataset = dataframe.values\n",
        "dataset = dataset.astype('float32')"
      ],
      "execution_count": 0,
      "outputs": []
    },
    {
      "cell_type": "code",
      "metadata": {
        "id": "xpk-tU6bGgLU",
        "colab_type": "code",
        "outputId": "58c7d3e7-4ad9-4078-c939-280a2f656ef8",
        "colab": {
          "base_uri": "https://localhost:8080/",
          "height": 34
        }
      },
      "source": [
        "len(dataset)"
      ],
      "execution_count": 6,
      "outputs": [
        {
          "output_type": "execute_result",
          "data": {
            "text/plain": [
              "17520"
            ]
          },
          "metadata": {
            "tags": []
          },
          "execution_count": 6
        }
      ]
    },
    {
      "cell_type": "code",
      "metadata": {
        "id": "7i5T32F1GzXx",
        "colab_type": "code",
        "colab": {}
      },
      "source": [
        "# The complete dataset has 17520 values. \n",
        "# Considering the last week for testing and the month before that for training"
      ],
      "execution_count": 0,
      "outputs": []
    },
    {
      "cell_type": "code",
      "metadata": {
        "id": "UaXw6x4mHBNb",
        "colab_type": "code",
        "colab": {}
      },
      "source": [
        "# there are 1440 values in 30 days (month)\n",
        "# There are 336 values in 7 days (week)\n",
        "\n",
        "# therefore total dataset required is 1440 + 336 = 1776 readings\n",
        "\n",
        "\n",
        "dataset = dataset[len(dataset)-1776:]"
      ],
      "execution_count": 0,
      "outputs": []
    },
    {
      "cell_type": "code",
      "metadata": {
        "id": "GIJmLlbAHw6y",
        "colab_type": "code",
        "outputId": "85261739-ee85-4fba-aee1-ae25830870e6",
        "colab": {
          "base_uri": "https://localhost:8080/",
          "height": 34
        }
      },
      "source": [
        "len(dataset)"
      ],
      "execution_count": 9,
      "outputs": [
        {
          "output_type": "execute_result",
          "data": {
            "text/plain": [
              "1776"
            ]
          },
          "metadata": {
            "tags": []
          },
          "execution_count": 9
        }
      ]
    },
    {
      "cell_type": "code",
      "metadata": {
        "id": "gymIyCZBHyWi",
        "colab_type": "code",
        "colab": {}
      },
      "source": [
        "# split into train and test sets\n",
        "train_size = 1440\n",
        "test_size = len(dataset) - train_size\n",
        "train, test = dataset[0:train_size,:], dataset[train_size:len(dataset),:]"
      ],
      "execution_count": 0,
      "outputs": []
    },
    {
      "cell_type": "code",
      "metadata": {
        "id": "U21bQJM0Ikp2",
        "colab_type": "code",
        "outputId": "82a6480f-a844-47f9-e918-29c20ccf83ba",
        "colab": {
          "base_uri": "https://localhost:8080/",
          "height": 50
        }
      },
      "source": [
        "print(\"Length of Train: \" + str(len(train)))\n",
        "print(\"Length of Test: \" + str(len(test)))"
      ],
      "execution_count": 11,
      "outputs": [
        {
          "output_type": "stream",
          "text": [
            "Length of Train: 1440\n",
            "Length of Test: 336\n"
          ],
          "name": "stdout"
        }
      ]
    },
    {
      "cell_type": "code",
      "metadata": {
        "id": "ncTtVAimIuHj",
        "colab_type": "code",
        "colab": {}
      },
      "source": [
        "# reshape into X=t and Y=t+1\n",
        "look_back = 48\n",
        "trainX, trainY = create_dataset(train, look_back)\n",
        "testX, testY = create_dataset(test, look_back)"
      ],
      "execution_count": 0,
      "outputs": []
    },
    {
      "cell_type": "code",
      "metadata": {
        "id": "IEqR9jzZJINt",
        "colab_type": "code",
        "outputId": "2b0cc41a-af66-4bc0-f2f6-86df7e040ae3",
        "colab": {
          "base_uri": "https://localhost:8080/",
          "height": 50
        }
      },
      "source": [
        "# check the Shape of TrainY and TestY\n",
        "print(\"Shape of TrainY: \" + str(trainY.shape))\n",
        "print(\"Shape of TestY: \" + str(testY.shape))"
      ],
      "execution_count": 15,
      "outputs": [
        {
          "output_type": "stream",
          "text": [
            "Shape of TrainY: (1391,)\n",
            "Shape of TestY: (287,)\n"
          ],
          "name": "stdout"
        }
      ]
    },
    {
      "cell_type": "code",
      "metadata": {
        "id": "ymFDlulrKe4b",
        "colab_type": "code",
        "colab": {}
      },
      "source": [
        "# Perform Grid-Search\n",
        "gsc = GridSearchCV(\n",
        "    estimator=RandomForestRegressor(),\n",
        "    param_grid={\n",
        "        'max_depth': range(3,12),\n",
        "        'n_estimators': (5, 10, 50, 500, 750),\n",
        "    },\n",
        "    cv=5, \n",
        "    scoring='neg_mean_squared_error', \n",
        "    verbose=0, \n",
        "    n_jobs=-1)"
      ],
      "execution_count": 0,
      "outputs": []
    },
    {
      "cell_type": "code",
      "metadata": {
        "id": "71CQwBMOLE7W",
        "colab_type": "code",
        "colab": {}
      },
      "source": [
        "grid_result = gsc.fit(trainX, trainY)\n",
        "best_params = grid_result.best_params_"
      ],
      "execution_count": 0,
      "outputs": []
    },
    {
      "cell_type": "code",
      "metadata": {
        "id": "eUatTEUDRUm4",
        "colab_type": "code",
        "outputId": "bf1cd97f-d539-4fd0-b4eb-f038fef47676",
        "colab": {
          "base_uri": "https://localhost:8080/",
          "height": 336
        }
      },
      "source": [
        "grid_result"
      ],
      "execution_count": 18,
      "outputs": [
        {
          "output_type": "execute_result",
          "data": {
            "text/plain": [
              "GridSearchCV(cv=5, error_score=nan,\n",
              "             estimator=RandomForestRegressor(bootstrap=True, ccp_alpha=0.0,\n",
              "                                             criterion='mse', max_depth=None,\n",
              "                                             max_features='auto',\n",
              "                                             max_leaf_nodes=None,\n",
              "                                             max_samples=None,\n",
              "                                             min_impurity_decrease=0.0,\n",
              "                                             min_impurity_split=None,\n",
              "                                             min_samples_leaf=1,\n",
              "                                             min_samples_split=2,\n",
              "                                             min_weight_fraction_leaf=0.0,\n",
              "                                             n_estimators=100, n_jobs=None,\n",
              "                                             oob_score=False, random_state=None,\n",
              "                                             verbose=0, warm_start=False),\n",
              "             iid='deprecated', n_jobs=-1,\n",
              "             param_grid={'max_depth': range(3, 12),\n",
              "                         'n_estimators': (5, 10, 50, 500, 750)},\n",
              "             pre_dispatch='2*n_jobs', refit=True, return_train_score=False,\n",
              "             scoring='neg_mean_squared_error', verbose=0)"
            ]
          },
          "metadata": {
            "tags": []
          },
          "execution_count": 18
        }
      ]
    },
    {
      "cell_type": "code",
      "metadata": {
        "id": "RiRLHBGERbWw",
        "colab_type": "code",
        "outputId": "b123efb5-d689-4b10-c426-302764d49437",
        "colab": {
          "base_uri": "https://localhost:8080/",
          "height": 34
        }
      },
      "source": [
        "best_params"
      ],
      "execution_count": 19,
      "outputs": [
        {
          "output_type": "execute_result",
          "data": {
            "text/plain": [
              "{'max_depth': 11, 'n_estimators': 750}"
            ]
          },
          "metadata": {
            "tags": []
          },
          "execution_count": 19
        }
      ]
    },
    {
      "cell_type": "code",
      "metadata": {
        "id": "Rbt3sOALPIRT",
        "colab_type": "code",
        "colab": {}
      },
      "source": [
        "rfr = RandomForestRegressor(max_depth=best_params[\"max_depth\"],\n",
        "                            n_estimators=best_params[\"n_estimators\"], \n",
        "                            random_state=False, \n",
        "                            verbose=False)"
      ],
      "execution_count": 0,
      "outputs": []
    },
    {
      "cell_type": "code",
      "metadata": {
        "id": "sXG6zG7wQ95H",
        "colab_type": "code",
        "colab": {}
      },
      "source": [
        "# Optional\n",
        "scores = cross_val_score(rfr, trainX, trainY, cv=10, scoring='neg_mean_absolute_error')"
      ],
      "execution_count": 0,
      "outputs": []
    },
    {
      "cell_type": "code",
      "metadata": {
        "id": "txu-FMpeR1yC",
        "colab_type": "code",
        "outputId": "07f1e385-175c-471f-bc18-3f89613ba5e3",
        "colab": {
          "base_uri": "https://localhost:8080/",
          "height": 67
        }
      },
      "source": [
        "scores"
      ],
      "execution_count": 22,
      "outputs": [
        {
          "output_type": "execute_result",
          "data": {
            "text/plain": [
              "array([ -84.4757835 ,  -65.83898223,  -70.12296616,  -72.37662964,\n",
              "        -62.87665239,  -79.58929557,  -70.05515234,  -60.52735446,\n",
              "       -119.3173577 ,  -90.6266791 ])"
            ]
          },
          "metadata": {
            "tags": []
          },
          "execution_count": 22
        }
      ]
    },
    {
      "cell_type": "code",
      "metadata": {
        "id": "-Y8euyMBRF1k",
        "colab_type": "code",
        "colab": {}
      },
      "source": [
        "predictions = cross_val_predict(rfr, testX, testY, cv=10)"
      ],
      "execution_count": 0,
      "outputs": []
    },
    {
      "cell_type": "code",
      "metadata": {
        "id": "-SvRGLd2RjRL",
        "colab_type": "code",
        "outputId": "0cfa5ac5-a4ea-41c2-a86f-4ebd94023bed",
        "colab": {
          "base_uri": "https://localhost:8080/",
          "height": 67
        }
      },
      "source": [
        "predictions[:10]"
      ],
      "execution_count": 24,
      "outputs": [
        {
          "output_type": "execute_result",
          "data": {
            "text/plain": [
              "array([3877.42346558, 3637.03144896, 3093.71414421, 2873.88131348,\n",
              "       2588.42211426, 2329.33427848, 2189.96585872, 2135.46179281,\n",
              "       2125.4439221 , 2084.38667649])"
            ]
          },
          "metadata": {
            "tags": []
          },
          "execution_count": 24
        }
      ]
    },
    {
      "cell_type": "code",
      "metadata": {
        "id": "MvWB7oRWR9PM",
        "colab_type": "code",
        "colab": {}
      },
      "source": [
        "def mean_absolute_percentage_error(y_true, y_pred):\n",
        "    y_true, y_pred = np.array(y_true), np.array(y_pred)\n",
        "    return np.mean(np.abs((y_true - y_pred) / y_true)) * 100"
      ],
      "execution_count": 0,
      "outputs": []
    },
    {
      "cell_type": "code",
      "metadata": {
        "id": "SOkrt-wvSC1K",
        "colab_type": "code",
        "colab": {}
      },
      "source": [
        "mape_rfr = mean_absolute_percentage_error(testY, predictions)"
      ],
      "execution_count": 0,
      "outputs": []
    },
    {
      "cell_type": "code",
      "metadata": {
        "id": "yjvII3g_SjaE",
        "colab_type": "code",
        "outputId": "65fe5a7d-fdcd-4328-8fb4-b91e9065a38f",
        "colab": {
          "base_uri": "https://localhost:8080/",
          "height": 34
        }
      },
      "source": [
        "mape_rfr"
      ],
      "execution_count": 27,
      "outputs": [
        {
          "output_type": "execute_result",
          "data": {
            "text/plain": [
              "2.882158514058046"
            ]
          },
          "metadata": {
            "tags": []
          },
          "execution_count": 27
        }
      ]
    },
    {
      "cell_type": "code",
      "metadata": {
        "id": "RuZ3CvzMSkgN",
        "colab_type": "code",
        "outputId": "3e6900b4-12de-4c2c-8342-b077e8c45150",
        "colab": {
          "base_uri": "https://localhost:8080/",
          "height": 267
        }
      },
      "source": [
        "plt.plot(testY, label = 'original_data')\n",
        "plt.plot(predictions, label = 'predicted data')\n",
        "plt.legend()\n",
        "plt.show()"
      ],
      "execution_count": 28,
      "outputs": [
        {
          "output_type": "display_data",
          "data": {
            "image/png": "[encoded data removed]",
            "text/plain": [
              "<Figure size 432x288 with 1 Axes>"
            ]
          },
          "metadata": {
            "tags": []
          }
        }
      ]
    }
  ]
}